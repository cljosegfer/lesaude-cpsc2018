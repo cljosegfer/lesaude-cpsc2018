{
 "cells": [
  {
   "cell_type": "code",
   "execution_count": 1,
   "metadata": {},
   "outputs": [],
   "source": [
    "from ecgprep import preprocess, read_ecg\n",
    "import argparse\n",
    "import h5py\n",
    "import pandas as pd\n",
    "import tqdm\n",
    "import os\n",
    "import matplotlib.pyplot as plt"
   ]
  },
  {
   "cell_type": "code",
   "execution_count": 2,
   "metadata": {},
   "outputs": [],
   "source": [
    "input_file = 'RECORDS.txt'\n",
    "root_dir = 'Training_WFDB'\n",
    "out_file = 'cpsc2018.h5'\n",
    "\n",
    "fmt = 'wfdb'\n",
    "\n",
    "new_freq = 400\n",
    "new_len = 4096\n",
    "scale = 2\n",
    "use_all_leads = True\n",
    "remove_baseline = False\n",
    "remove_powerline = None"
   ]
  },
  {
   "cell_type": "markdown",
   "metadata": {},
   "source": [
    "# before"
   ]
  },
  {
   "cell_type": "code",
   "execution_count": 11,
   "metadata": {},
   "outputs": [],
   "source": [
    "all_leads = ['DI', 'DII', 'DIII', 'AVR', 'AVL', 'AVF', 'V1', 'V2', 'V3', 'V4', 'V5', 'V6']"
   ]
  },
  {
   "cell_type": "code",
   "execution_count": null,
   "metadata": {},
   "outputs": [],
   "source": [
    "files = pd.read_csv(input_file, header=None).values.flatten()\n",
    "folder = root_dir\n",
    "n = len(files)"
   ]
  },
  {
   "cell_type": "code",
   "execution_count": 4,
   "metadata": {},
   "outputs": [
    {
     "name": "stderr",
     "output_type": "stream",
     "text": [
      "  0%|          | 0/6877 [00:00<?, ?it/s]\n"
     ]
    }
   ],
   "source": [
    "for i, f in enumerate(tqdm.tqdm(files)):\n",
    "    break"
   ]
  },
  {
   "cell_type": "code",
   "execution_count": 5,
   "metadata": {},
   "outputs": [
    {
     "data": {
      "text/plain": [
       "(0, 'A0001')"
      ]
     },
     "execution_count": 5,
     "metadata": {},
     "output_type": "execute_result"
    }
   ],
   "source": [
    "i, f"
   ]
  },
  {
   "cell_type": "code",
   "execution_count": 6,
   "metadata": {},
   "outputs": [
    {
     "data": {
      "text/plain": [
       "(array([[ 0.028,  0.039,  0.045, ...,  0.258,  0.259,  0.259],\n",
       "        [ 0.007,  0.011,  0.015, ...,  0.248,  0.249,  0.25 ],\n",
       "        [-0.021, -0.028, -0.03 , ..., -0.01 , -0.01 , -0.009],\n",
       "        ...,\n",
       "        [-0.112, -0.11 , -0.108, ...,  0.194,  0.194,  0.195],\n",
       "        [-0.596, -0.59 , -0.582, ...,  0.307,  0.307,  0.307],\n",
       "        [-0.016, -0.007,  0.002, ...,  0.213,  0.214,  0.214]]),\n",
       " 500,\n",
       " ['I', 'II', 'III', 'aVR', 'aVL', 'aVF', 'V1', 'V2', 'V3', 'V4', 'V5', 'V6'])"
      ]
     },
     "execution_count": 6,
     "metadata": {},
     "output_type": "execute_result"
    }
   ],
   "source": [
    "ecg, sample_rate, leads = read_ecg.read_ecg(os.path.join(folder, f), format = fmt)\n",
    "ecg, sample_rate, leads"
   ]
  },
  {
   "cell_type": "code",
   "execution_count": 12,
   "metadata": {},
   "outputs": [
    {
     "data": {
      "text/plain": [
       "(array([[0.14171106, 0.1594395 , 0.17288925, ..., 0.39309242, 0.39275198,\n",
       "         0.38542676],\n",
       "        [0.14743006, 0.16354509, 0.17610812, ..., 0.49229149, 0.48145571,\n",
       "         0.46706677],\n",
       "        [0.00571899, 0.00410559, 0.00321887, ..., 0.09919907, 0.08870373,\n",
       "         0.08164001],\n",
       "        ...,\n",
       "        [0.67399432, 0.68610556, 0.69547994, ..., 0.84872576, 0.83049524,\n",
       "         0.80987141],\n",
       "        [0.40243078, 0.41866199, 0.43517433, ..., 0.80437317, 0.77749465,\n",
       "         0.74812751],\n",
       "        [0.22943044, 0.24075715, 0.25147973, ..., 1.04754011, 1.02553988,\n",
       "         1.00114745]]),\n",
       " 400,\n",
       " ['DI',\n",
       "  'DII',\n",
       "  'DIII',\n",
       "  'AVR',\n",
       "  'AVL',\n",
       "  'AVF',\n",
       "  'V1',\n",
       "  'V2',\n",
       "  'V3',\n",
       "  'V4',\n",
       "  'V5',\n",
       "  'V6'])"
      ]
     },
     "execution_count": 12,
     "metadata": {},
     "output_type": "execute_result"
    }
   ],
   "source": [
    "ecg_preprocessed, new_rate, new_leads = preprocess.preprocess_ecg(ecg, sample_rate, all_leads, # different lead names\n",
    "                                                                          new_freq=new_freq,\n",
    "                                                                          new_len=new_len,\n",
    "                                                                          scale=scale,\n",
    "                                                                          use_all_leads=use_all_leads,\n",
    "                                                                          remove_baseline=remove_baseline,\n",
    "                                                                          remove_powerline=remove_powerline)\n",
    "ecg_preprocessed, new_rate, new_leads"
   ]
  },
  {
   "cell_type": "code",
   "execution_count": 17,
   "metadata": {},
   "outputs": [],
   "source": [
    "h5f = h5py.File(out_file, 'w')\n",
    "x = None"
   ]
  },
  {
   "cell_type": "code",
   "execution_count": 24,
   "metadata": {},
   "outputs": [
    {
     "name": "stderr",
     "output_type": "stream",
     "text": [
      "100%|██████████| 6877/6877 [01:12<00:00, 94.38it/s] \n"
     ]
    }
   ],
   "source": [
    "for i, f in enumerate(tqdm.tqdm(files)):\n",
    "    ecg, sample_rate, leads = read_ecg.read_ecg(os.path.join(folder, f), format=fmt)\n",
    "    ecg_preprocessed, new_rate, new_leads = preprocess.preprocess_ecg(ecg, sample_rate, leads,\n",
    "                                                                            new_freq=new_freq,\n",
    "                                                                            new_len=new_len,\n",
    "                                                                            scale=scale,\n",
    "                                                                            use_all_leads=use_all_leads,\n",
    "                                                                            remove_baseline=remove_baseline,\n",
    "                                                                            remove_powerline=remove_powerline)\n",
    "    if x is None:\n",
    "        n_leads, n_samples = ecg_preprocessed.shape\n",
    "        x = h5f.create_dataset('tracings', (n, n_samples, n_leads), dtype='f8')\n",
    "        id = h5f.create_dataset('exam_id', (n,), dtype='i4')\n",
    "    x[i, :, :] = ecg_preprocessed.T\n",
    "    id[i] = int(f[1:])"
   ]
  },
  {
   "cell_type": "code",
   "execution_count": 26,
   "metadata": {},
   "outputs": [],
   "source": [
    "h5f.close()"
   ]
  },
  {
   "cell_type": "markdown",
   "metadata": {},
   "source": [
    "# after"
   ]
  },
  {
   "cell_type": "code",
   "execution_count": 3,
   "metadata": {},
   "outputs": [],
   "source": [
    "hdf5_file = h5py.File(out_file, \"r\")"
   ]
  },
  {
   "cell_type": "code",
   "execution_count": 4,
   "metadata": {},
   "outputs": [
    {
     "data": {
      "text/plain": [
       "((4096, 12),\n",
       " array([[ 1.24145610e+00,  8.53285528e-01, -3.88170576e-01, ...,\n",
       "          1.47896607e+00,  1.47301702e+00,  1.38606422e+00],\n",
       "        [ 1.42445056e+00,  1.19676218e+00, -2.27688378e-01, ...,\n",
       "          1.61860816e+00,  1.64423297e+00,  1.57718148e+00],\n",
       "        [ 1.54001226e+00,  1.36384931e+00, -1.76162956e-01, ...,\n",
       "          1.69841640e+00,  1.75400555e+00,  1.70216316e+00],\n",
       "        ...,\n",
       "        [-9.39229601e-02, -1.43210548e-01, -4.92875877e-02, ...,\n",
       "         -1.41490725e-01, -8.81774370e-02, -8.98035689e-02],\n",
       "        [-8.80347171e-02, -8.88953595e-02, -8.60642428e-04, ...,\n",
       "         -1.61820652e-01, -1.10680749e-01, -1.06103042e-01],\n",
       "        [-1.06191098e-01, -8.71783243e-02,  1.90127736e-02, ...,\n",
       "         -1.84537747e-01, -1.38945585e-01, -1.47926782e-01]]))"
      ]
     },
     "execution_count": 4,
     "metadata": {},
     "output_type": "execute_result"
    }
   ],
   "source": [
    "i = 5000\n",
    "hdf5_file['tracings'][i].shape, hdf5_file['tracings'][i]"
   ]
  },
  {
   "cell_type": "code",
   "execution_count": 6,
   "metadata": {},
   "outputs": [
    {
     "data": {
      "text/plain": [
       "[<matplotlib.lines.Line2D at 0x7f77d3fe2700>]"
      ]
     },
     "execution_count": 6,
     "metadata": {},
     "output_type": "execute_result"
    },
    {
     "data": {
      "image/png": "[encoded data removed]",
      "text/plain": [
       "<Figure size 640x480 with 1 Axes>"
      ]
     },
     "metadata": {},
     "output_type": "display_data"
    }
   ],
   "source": [
    "plt.plot(hdf5_file['tracings'][i, :, 0])"
   ]
  },
  {
   "cell_type": "code",
   "execution_count": 8,
   "metadata": {},
   "outputs": [],
   "source": [
    "hdf5_file.close()"
   ]
  }
 ],
 "metadata": {
  "kernelspec": {
   "display_name": "clip",
   "language": "python",
   "name": "python3"
  },
  "language_info": {
   "codemirror_mode": {
    "name": "ipython",
    "version": 3
   },
   "file_extension": ".py",
   "mimetype": "text/x-python",
   "name": "python",
   "nbconvert_exporter": "python",
   "pygments_lexer": "ipython3",
   "version": "3.8.8"
  }
 },
 "nbformat": 4,
 "nbformat_minor": 2
}
